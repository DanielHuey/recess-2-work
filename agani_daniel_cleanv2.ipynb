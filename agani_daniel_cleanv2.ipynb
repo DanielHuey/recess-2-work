{
 "cells": [
  {
   "cell_type": "code",
   "execution_count": 1,
   "metadata": {},
   "outputs": [],
   "source": [
    "import pandas as pd\n",
    "uce = pd.read_csv('UceResultsBySchool2011-2016.csv')"
   ]
  },
  {
   "cell_type": "markdown",
   "metadata": {},
   "source": [
    "[UCE Results]()"
   ]
  },
  {
   "cell_type": "code",
   "execution_count": 2,
   "metadata": {},
   "outputs": [
    {
     "name": "stdout",
     "output_type": "stream",
     "text": [
      "YEAR -->> 0\n",
      "DISTRICT  -->> 0\n",
      "SCHOOL -->> 1\n",
      "TOTAL CANDIDATES -->> 271\n",
      "TOTAL DIV 1 -->> 4781\n",
      "% DIV 1 -->> 0\n",
      "TOTAL DIV 2 -->> 759\n",
      "% DIV 2 -->> 0\n",
      "TOTAL DIV 3 -->> 471\n",
      "% DIV 3 -->> 0\n",
      "TOTAL DIV 4 -->> 751\n",
      "% DIV 4 -->> 0\n",
      "TOTAL DIV 7 -->> 11150\n",
      "% DIV 7 -->> 0\n",
      "TOTAL DIV 9 -->> 4185\n",
      "% DIV 9 -->> 0\n",
      "TOTAL X -->> 4235\n",
      "% X -->> 0\n",
      "FEMALE CANDIDATES -->> 0\n",
      "FEMALE TOTAL DIV1  -->> 9114\n",
      "FEMALE % DIV1  -->> 58\n",
      "FEMALE TOTAL DIV2  -->> 3307\n",
      "FEMALE % DIV2 -->> 58\n",
      "FEMALE TOTAL DIV3 -->> 1165\n",
      "FEMALE % DIV3 -->> 58\n",
      "FEMALE TOTAL DIV4 -->> 958\n",
      "FEMALE % DIV4 -->> 58\n",
      "FEMALE TOTAL DIV7 -->> 12875\n",
      "FEMALE % DIV7 -->> 58\n",
      "FEMALE TOTAL DIV9 -->> 5290\n",
      "FEMALE % DIV9 -->> 58\n",
      "FEMALE TOTAL X -->> 7043\n",
      "FEMALE % X  -->> 58\n",
      "MALE CANDIDATES -->> 0\n",
      "MALE TOTAL DIV1  -->> 7601\n",
      "MALE % DIV1  -->> 134\n",
      "MALE TOTAL DIV2  -->> 2397\n",
      "MALE % DIV2 -->> 134\n",
      "MALE TOTAL DIV3 -->> 1240\n",
      "MALE % DIV3 -->> 134\n",
      "MALE TOTAL DIV4 -->> 1379\n",
      "MALE % DIV4  -->> 134\n",
      "MALE TOTAL DIV7  -->> 10131\n",
      "MALE % DIV7 -->> 134\n",
      "MALE TOTAL DIV9  -->> 7120\n",
      "MALE % DIV9 -->> 134\n",
      "MALE TOTAL X  -->> 7260\n",
      "MALE % X -->> 134\n"
     ]
    }
   ],
   "source": [
    "for r in uce.columns:\n",
    "    print(r,\"-->>\",uce[r].isnull().sum())"
   ]
  },
  {
   "cell_type": "code",
   "execution_count": 3,
   "metadata": {},
   "outputs": [
    {
     "name": "stdout",
     "output_type": "stream",
     "text": [
      "<class 'pandas.core.frame.DataFrame'>\n",
      "RangeIndex: 17639 entries, 0 to 17638\n",
      "Data columns (total 48 columns):\n",
      " #   Column              Non-Null Count  Dtype  \n",
      "---  ------              --------------  -----  \n",
      " 0   YEAR                17639 non-null  int64  \n",
      " 1   DISTRICT            17639 non-null  object \n",
      " 2   SCHOOL              17638 non-null  object \n",
      " 3   TOTAL CANDIDATES    17368 non-null  float64\n",
      " 4   TOTAL DIV 1         12858 non-null  float64\n",
      " 5   % DIV 1             17639 non-null  float64\n",
      " 6   TOTAL DIV 2         16880 non-null  float64\n",
      " 7   % DIV 2             17639 non-null  float64\n",
      " 8   TOTAL DIV 3         17168 non-null  float64\n",
      " 9   % DIV 3             17639 non-null  float64\n",
      " 10  TOTAL DIV 4         16888 non-null  float64\n",
      " 11  % DIV 4             17639 non-null  float64\n",
      " 12  TOTAL DIV 7         6489 non-null   float64\n",
      " 13  % DIV 7             17639 non-null  float64\n",
      " 14  TOTAL DIV 9         13454 non-null  float64\n",
      " 15  % DIV 9             17639 non-null  float64\n",
      " 16  TOTAL X             13404 non-null  float64\n",
      " 17  % X                 17639 non-null  float64\n",
      " 18  FEMALE CANDIDATES   17639 non-null  int64  \n",
      " 19  FEMALE TOTAL DIV1   8525 non-null   float64\n",
      " 20  FEMALE % DIV1       17581 non-null  float64\n",
      " 21  FEMALE TOTAL DIV2   14332 non-null  float64\n",
      " 22  FEMALE % DIV2       17581 non-null  float64\n",
      " 23  FEMALE TOTAL DIV3   16474 non-null  float64\n",
      " 24  FEMALE % DIV3       17581 non-null  float64\n",
      " 25  FEMALE TOTAL DIV4   16681 non-null  float64\n",
      " 26  FEMALE % DIV4       17581 non-null  float64\n",
      " 27  FEMALE TOTAL DIV7   4764 non-null   float64\n",
      " 28  FEMALE % DIV7       17581 non-null  float64\n",
      " 29  FEMALE TOTAL DIV9   12349 non-null  float64\n",
      " 30  FEMALE % DIV9       17581 non-null  float64\n",
      " 31  FEMALE TOTAL X      10596 non-null  float64\n",
      " 32  FEMALE % X          17581 non-null  float64\n",
      " 33  MALE CANDIDATES     17639 non-null  int64  \n",
      " 34  MALE TOTAL DIV1     10038 non-null  float64\n",
      " 35  MALE % DIV1         17505 non-null  float64\n",
      " 36  MALE TOTAL DIV2     15242 non-null  float64\n",
      " 37  MALE % DIV2         17505 non-null  float64\n",
      " 38  MALE TOTAL DIV3     16399 non-null  float64\n",
      " 39  MALE % DIV3         17505 non-null  float64\n",
      " 40  MALE TOTAL DIV4     16260 non-null  float64\n",
      " 41  MALE % DIV4         17505 non-null  float64\n",
      " 42  MALE TOTAL DIV7     7508 non-null   float64\n",
      " 43  MALE % DIV7         17505 non-null  float64\n",
      " 44  MALE TOTAL DIV9     10519 non-null  float64\n",
      " 45  MALE % DIV9         17505 non-null  float64\n",
      " 46  MALE TOTAL X        10379 non-null  float64\n",
      " 47  MALE % X            17505 non-null  float64\n",
      "dtypes: float64(43), int64(3), object(2)\n",
      "memory usage: 6.5+ MB\n"
     ]
    }
   ],
   "source": [
    "uce.info()"
   ]
  },
  {
   "cell_type": "markdown",
   "metadata": {},
   "source": [
    "# remove n/a from school and total candidates.\n",
    "\n",
    "school - because you should not have results for a school with no name\n",
    "\n",
    "total candidates - because im going to fill n/a values with a '0' so it would not make sense to have 0 total candidates"
   ]
  },
  {
   "cell_type": "code",
   "execution_count": 4,
   "metadata": {},
   "outputs": [],
   "source": [
    "uce = uce.dropna(subset=['SCHOOL','TOTAL CANDIDATES'])\n",
    "uce = uce.fillna(value=0)"
   ]
  },
  {
   "cell_type": "code",
   "execution_count": 5,
   "metadata": {},
   "outputs": [
    {
     "name": "stdout",
     "output_type": "stream",
     "text": [
      "<class 'pandas.core.frame.DataFrame'>\n",
      "Int64Index: 17367 entries, 0 to 17638\n",
      "Data columns (total 48 columns):\n",
      " #   Column              Non-Null Count  Dtype  \n",
      "---  ------              --------------  -----  \n",
      " 0   YEAR                17367 non-null  int64  \n",
      " 1   DISTRICT            17367 non-null  object \n",
      " 2   SCHOOL              17367 non-null  object \n",
      " 3   TOTAL CANDIDATES    17367 non-null  float64\n",
      " 4   TOTAL DIV 1         17367 non-null  float64\n",
      " 5   % DIV 1             17367 non-null  float64\n",
      " 6   TOTAL DIV 2         17367 non-null  float64\n",
      " 7   % DIV 2             17367 non-null  float64\n",
      " 8   TOTAL DIV 3         17367 non-null  float64\n",
      " 9   % DIV 3             17367 non-null  float64\n",
      " 10  TOTAL DIV 4         17367 non-null  float64\n",
      " 11  % DIV 4             17367 non-null  float64\n",
      " 12  TOTAL DIV 7         17367 non-null  float64\n",
      " 13  % DIV 7             17367 non-null  float64\n",
      " 14  TOTAL DIV 9         17367 non-null  float64\n",
      " 15  % DIV 9             17367 non-null  float64\n",
      " 16  TOTAL X             17367 non-null  float64\n",
      " 17  % X                 17367 non-null  float64\n",
      " 18  FEMALE CANDIDATES   17367 non-null  int64  \n",
      " 19  FEMALE TOTAL DIV1   17367 non-null  float64\n",
      " 20  FEMALE % DIV1       17367 non-null  float64\n",
      " 21  FEMALE TOTAL DIV2   17367 non-null  float64\n",
      " 22  FEMALE % DIV2       17367 non-null  float64\n",
      " 23  FEMALE TOTAL DIV3   17367 non-null  float64\n",
      " 24  FEMALE % DIV3       17367 non-null  float64\n",
      " 25  FEMALE TOTAL DIV4   17367 non-null  float64\n",
      " 26  FEMALE % DIV4       17367 non-null  float64\n",
      " 27  FEMALE TOTAL DIV7   17367 non-null  float64\n",
      " 28  FEMALE % DIV7       17367 non-null  float64\n",
      " 29  FEMALE TOTAL DIV9   17367 non-null  float64\n",
      " 30  FEMALE % DIV9       17367 non-null  float64\n",
      " 31  FEMALE TOTAL X      17367 non-null  float64\n",
      " 32  FEMALE % X          17367 non-null  float64\n",
      " 33  MALE CANDIDATES     17367 non-null  int64  \n",
      " 34  MALE TOTAL DIV1     17367 non-null  float64\n",
      " 35  MALE % DIV1         17367 non-null  float64\n",
      " 36  MALE TOTAL DIV2     17367 non-null  float64\n",
      " 37  MALE % DIV2         17367 non-null  float64\n",
      " 38  MALE TOTAL DIV3     17367 non-null  float64\n",
      " 39  MALE % DIV3         17367 non-null  float64\n",
      " 40  MALE TOTAL DIV4     17367 non-null  float64\n",
      " 41  MALE % DIV4         17367 non-null  float64\n",
      " 42  MALE TOTAL DIV7     17367 non-null  float64\n",
      " 43  MALE % DIV7         17367 non-null  float64\n",
      " 44  MALE TOTAL DIV9     17367 non-null  float64\n",
      " 45  MALE % DIV9         17367 non-null  float64\n",
      " 46  MALE TOTAL X        17367 non-null  float64\n",
      " 47  MALE % X            17367 non-null  float64\n",
      "dtypes: float64(43), int64(3), object(2)\n",
      "memory usage: 6.5+ MB\n"
     ]
    }
   ],
   "source": [
    "uce.info()"
   ]
  }
 ],
 "metadata": {
  "kernelspec": {
   "display_name": "Python",
   "language": "python",
   "name": "python3"
  },
  "language_info": {
   "codemirror_mode": {
    "name": "ipython",
    "version": 3
   },
   "file_extension": ".py",
   "mimetype": "text/x-python",
   "name": "python",
   "nbconvert_exporter": "python",
   "pygments_lexer": "ipython3",
   "version": ""
  },
  "orig_nbformat": 4,
  "vscode": {
   "interpreter": {
    "hash": "1544220b55a0feec46d2c5c4e6446017a8c7b094d15952baad84bf8414ab38dd"
   }
  }
 },
 "nbformat": 4,
 "nbformat_minor": 2
}
