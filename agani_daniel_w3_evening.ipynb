{
 "cells": [
  {
   "cell_type": "code",
   "execution_count": 1,
   "metadata": {},
   "outputs": [
    {
     "name": "stdout",
     "output_type": "stream",
     "text": [
      "----5----\n"
     ]
    }
   ],
   "source": [
    "x=5\n",
    "print(f\"{x:-^9}\")"
   ]
  },
  {
   "cell_type": "code",
   "execution_count": 2,
   "metadata": {},
   "outputs": [
    {
     "data": {
      "text/plain": [
       "'1.3.5'"
      ]
     },
     "execution_count": 2,
     "metadata": {},
     "output_type": "execute_result"
    }
   ],
   "source": [
    "import pandas as pd\n",
    "pd.__version__"
   ]
  },
  {
   "cell_type": "code",
   "execution_count": 40,
   "metadata": {},
   "outputs": [],
   "source": [
    "cheap_calendar = {\n",
    "    'mon':[None,3,10,17,24,31],\n",
    "    'tue':[None,4,11,18,25,None],\n",
    "    'wed':[None,5,12,19,26,None],\n",
    "    'thu':[None,6,13,20,27,None],\n",
    "    'fri':[None,7,14,21,28,None],\n",
    "    'sat':[1,8,15,22,29,None],\n",
    "    'sun':[2,9,16,23,30,None],\n",
    "}"
   ]
  },
  {
   "cell_type": "code",
   "execution_count": 41,
   "metadata": {},
   "outputs": [
    {
     "name": "stdout",
     "output_type": "stream",
     "text": [
      "mon      [None, 3, 10, 17, 24, 31]\n",
      "tue    [None, 4, 11, 18, 25, None]\n",
      "wed    [None, 5, 12, 19, 26, None]\n",
      "thu    [None, 6, 13, 20, 27, None]\n",
      "fri    [None, 7, 14, 21, 28, None]\n",
      "sat       [1, 8, 15, 22, 29, None]\n",
      "sun       [2, 9, 16, 23, 30, None]\n",
      "dtype: object\n"
     ]
    }
   ],
   "source": [
    "a = pd.Series(cheap_calendar)\n",
    "print(a)"
   ]
  },
  {
   "cell_type": "code",
   "execution_count": 43,
   "metadata": {},
   "outputs": [
    {
     "name": "stdout",
     "output_type": "stream",
     "text": [
      "July\n",
      "     mon   tue   wed   thu   fri   sat   sun\n",
      "0   NaN   NaN   NaN   NaN   NaN   1.0   2.0\n",
      "1   3.0   4.0   5.0   6.0   7.0   8.0   9.0\n",
      "2  10.0  11.0  12.0  13.0  14.0  15.0  16.0\n",
      "3  17.0  18.0  19.0  20.0  21.0  22.0  23.0\n",
      "4  24.0  25.0  26.0  27.0  28.0  29.0  30.0\n",
      "5  31.0   NaN   NaN   NaN   NaN   NaN   NaN\n"
     ]
    }
   ],
   "source": [
    "df = pd.DataFrame(cheap_calendar)\n",
    "print('July\\n',df)"
   ]
  },
  {
   "cell_type": "code",
   "execution_count": 45,
   "metadata": {},
   "outputs": [
    {
     "data": {
      "text/plain": [
       "0     NaN\n",
       "1     3.0\n",
       "2    10.0\n",
       "3    17.0\n",
       "4    24.0\n",
       "5    31.0\n",
       "Name: mon, dtype: float64"
      ]
     },
     "execution_count": 45,
     "metadata": {},
     "output_type": "execute_result"
    }
   ],
   "source": [
    "df['mon']"
   ]
  },
  {
   "cell_type": "code",
   "execution_count": 57,
   "metadata": {},
   "outputs": [
    {
     "data": {
      "text/plain": [
       "mon    1\n",
       "tue    2\n",
       "wed    2\n",
       "thu    2\n",
       "fri    2\n",
       "sat    1\n",
       "sun    1\n",
       "dtype: int64"
      ]
     },
     "execution_count": 57,
     "metadata": {},
     "output_type": "execute_result"
    }
   ],
   "source": [
    "df.isnull().sum()"
   ]
  }
 ],
 "metadata": {
  "kernelspec": {
   "display_name": "Python 3.7.3 64-bit",
   "language": "python",
   "name": "python3"
  },
  "language_info": {
   "codemirror_mode": {
    "name": "ipython",
    "version": 3
   },
   "file_extension": ".py",
   "mimetype": "text/x-python",
   "name": "python",
   "nbconvert_exporter": "python",
   "pygments_lexer": "ipython3",
   "version": "3.7.3"
  },
  "orig_nbformat": 4,
  "vscode": {
   "interpreter": {
    "hash": "1544220b55a0feec46d2c5c4e6446017a8c7b094d15952baad84bf8414ab38dd"
   }
  }
 },
 "nbformat": 4,
 "nbformat_minor": 2
}
